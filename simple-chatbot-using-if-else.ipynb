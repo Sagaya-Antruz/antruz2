{
 "cells": [
  {
   "cell_type": "code",
   "execution_count": null,
   "id": "dc6766e6-6bbb-4ad4-a579-09b4f090aab1",
   "metadata": {},
   "outputs": [
    {
     "name": "stdin",
     "output_type": "stream",
     "text": [
      "You:  hii\n"
     ]
    },
    {
     "name": "stdout",
     "output_type": "stream",
     "text": [
      "Chatbot: Hi there! How can I help you?\n"
     ]
    },
    {
     "name": "stdin",
     "output_type": "stream",
     "text": [
      "You:  how are you\n"
     ]
    },
    {
     "name": "stdout",
     "output_type": "stream",
     "text": [
      "Chatbot: I'm just a computer program, but thanks for asking!\n"
     ]
    },
    {
     "name": "stdin",
     "output_type": "stream",
     "text": [
      "You:  bye\n"
     ]
    },
    {
     "name": "stdout",
     "output_type": "stream",
     "text": [
      "Chatbot: Goodbye! Feel free to return anytime.\n"
     ]
    },
    {
     "name": "stdin",
     "output_type": "stream",
     "text": [
      "You:  hgdjyf,dxnyrfxkhgvjl\n"
     ]
    },
    {
     "name": "stdout",
     "output_type": "stream",
     "text": [
      "Chatbot: I'm not sure how to respond to that. Could you ask me something else?\n"
     ]
    },
    {
     "name": "stdin",
     "output_type": "stream",
     "text": [
      "You:  cjgckhgljbhkvgj\n"
     ]
    },
    {
     "name": "stdout",
     "output_type": "stream",
     "text": [
      "Chatbot: I'm not sure how to respond to that. Could you ask me something else?\n"
     ]
    }
   ],
   "source": [
    "def simple_chatbot(user_input):\n",
    "    if \"hii\" in user_input.lower():\n",
    "        return \"Hi there! How can I help you?\"\n",
    "    elif \"how are you\" in user_input.lower():\n",
    "        return \"I'm just a computer program, but thanks for asking!\"\n",
    "    elif \"bye\" in user_input.lower():\n",
    "        return \"Goodbye! Feel free to return anytime.\"\n",
    "    else:\n",
    "        return \"I'm not sure how to respond to that. Could you ask me something else?\"\n",
    "while True:\n",
    "    user_message = input(\"You: \")\n",
    "    if user_message.lower() == 'exit':\n",
    "        print(\"Chatbot: Goodbye!\")\n",
    "        break\n",
    "    response = simple_chatbot(user_message)\n",
    "    print(\"Chatbot:\",response)\n"
   ]
  },
  {
   "cell_type": "code",
   "execution_count": null,
   "id": "549516de-14ae-48cc-bd11-5bff3e54de3f",
   "metadata": {},
   "outputs": [],
   "source": []
  }
 ],
 "metadata": {
  "kernelspec": {
   "display_name": "Python 3 (ipykernel)",
   "language": "python",
   "name": "python3"
  },
  "language_info": {
   "codemirror_mode": {
    "name": "ipython",
    "version": 3
   },
   "file_extension": ".py",
   "mimetype": "text/x-python",
   "name": "python",
   "nbconvert_exporter": "python",
   "pygments_lexer": "ipython3",
   "version": "3.11.7"
  }
 },
 "nbformat": 4,
 "nbformat_minor": 5
}
